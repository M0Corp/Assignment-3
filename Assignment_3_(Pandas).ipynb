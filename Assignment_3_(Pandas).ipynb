{
  "cells": [
    {
      "cell_type": "markdown",
      "id": "64d7f59f-248f-4fc8-9597-e1f3b35a9b98",
      "metadata": {
        "id": "64d7f59f-248f-4fc8-9597-e1f3b35a9b98"
      },
      "source": [
        "## Data Analysis assignment (20 points)\n",
        "\n",
        "You have been given the dataset `travel-times` in a CSV format. This dataset comes from a driver that uses an app to track GPS coordinates as he drives to work and back each day. The app collects the location and elevation data. In total, data for about 200 trips are summarized in this data set.\n",
        "\n",
        "Load the `travel-times` in a `df` variable using `pandas` and then perform the following:\n",
        "- print the shape of the dataset **(1 points)**\n",
        "- print the first 15 rows of the dataset **(1 points)**\n",
        "- get information for the features (columns) with missing values **(1 points)**\n",
        "- drop duplicate values (if any) by keeping only the last instance **(1 points)**\n",
        "- calculate the total number of missing values (if any) on each column **(2 points)**\n",
        "- create two copies of the dataframe, and then:\n",
        "    - drop rows with missing values from the 1st copy **(1 points)**\n",
        "    - drop columns with missing values from the 2nd copy **(1 points)**\n",
        "- get summary statistics and see the correlation between the numerical columns **(1 points)**\n",
        "- show rows 11 to 14 **(1 points)**\n",
        "- create a subset with trips occurred on November 23, 2011 and January 6, 2012 **(2 points)**\n",
        "- produce a scatterplot between `Distance` and `TotalTime` **(1 points)**\n",
        "    * Use:\n",
        "```python\n",
        "import matplotlib.pyplot as plt\n",
        "plt.rcParams.update({'font.size': 20, 'figure.figsize': (10, 8)})\n",
        "```\n",
        "- produce boxplots for `AvgSpeed` and `AvgMovingSpeed` (use different cells for each) **(2 points)**"
      ]
    },
    {
      "cell_type": "code",
      "execution_count": null,
      "id": "3a276345-b8ef-419f-b55a-660d02d6279c",
      "metadata": {
        "id": "3a276345-b8ef-419f-b55a-660d02d6279c"
      },
      "outputs": [],
      "source": [
        "import matplotlib.pyplot as plt\n",
        "import pandas as pd\n",
        "\n",
        "plt.rcParams.update({'font.size': 20, 'figure.figsize': (10, 8)})"
      ]
    },
    {
      "cell_type": "code",
      "source": [
        "df = pd.read_csv('travel-times.csv')"
      ],
      "metadata": {
        "id": "Px35jqE95yXk"
      },
      "id": "Px35jqE95yXk",
      "execution_count": null,
      "outputs": []
    },
    {
      "cell_type": "code",
      "source": [
        "df.shape"
      ],
      "metadata": {
        "id": "6N6pxgKa5_0z",
        "outputId": "4f0506e8-018c-4ae1-e463-581edb545066",
        "colab": {
          "base_uri": "https://localhost:8080/"
        }
      },
      "id": "6N6pxgKa5_0z",
      "execution_count": null,
      "outputs": [
        {
          "output_type": "execute_result",
          "data": {
            "text/plain": [
              "(205, 13)"
            ]
          },
          "metadata": {},
          "execution_count": 4
        }
      ]
    },
    {
      "cell_type": "code",
      "source": [
        "df.head(15)"
      ],
      "metadata": {
        "id": "P1y9dTze6Ccv"
      },
      "id": "P1y9dTze6Ccv",
      "execution_count": null,
      "outputs": []
    },
    {
      "cell_type": "code",
      "source": [
        "df.info()"
      ],
      "metadata": {
        "id": "KLzXjAAB6Fg2"
      },
      "id": "KLzXjAAB6Fg2",
      "execution_count": null,
      "outputs": []
    },
    {
      "cell_type": "code",
      "source": [
        "df.drop_duplicates(inplace=True)"
      ],
      "metadata": {
        "id": "KrSZxFkQ6IxL"
      },
      "id": "KrSZxFkQ6IxL",
      "execution_count": null,
      "outputs": []
    },
    {
      "cell_type": "code",
      "source": [
        "df.isnull().sum()"
      ],
      "metadata": {
        "id": "X16Z2bbZ6PGY"
      },
      "id": "X16Z2bbZ6PGY",
      "execution_count": null,
      "outputs": []
    },
    {
      "cell_type": "code",
      "source": [
        "df1 = df.copy()\n",
        "df2 = df.copy()"
      ],
      "metadata": {
        "id": "gxAfLt916TUb"
      },
      "id": "gxAfLt916TUb",
      "execution_count": null,
      "outputs": []
    },
    {
      "cell_type": "code",
      "source": [
        "df1.dropna(inplace=True)\n",
        "df1.shape"
      ],
      "metadata": {
        "id": "8ur_y_NY6xKU",
        "colab": {
          "base_uri": "https://localhost:8080/"
        },
        "outputId": "e21b4265-8e81-4a25-99fd-bfd2d7aed500"
      },
      "id": "8ur_y_NY6xKU",
      "execution_count": null,
      "outputs": [
        {
          "output_type": "execute_result",
          "data": {
            "text/plain": [
              "(23, 13)"
            ]
          },
          "metadata": {},
          "execution_count": 9
        }
      ]
    },
    {
      "cell_type": "code",
      "source": [
        "df2.dropna(axis=1, inplace=True)\n",
        "df2.shape"
      ],
      "metadata": {
        "id": "HLB8Vy1W66EI",
        "colab": {
          "base_uri": "https://localhost:8080/"
        },
        "outputId": "7ff38b95-3d7e-4b03-e333-187e8773dd87"
      },
      "id": "HLB8Vy1W66EI",
      "execution_count": null,
      "outputs": [
        {
          "output_type": "execute_result",
          "data": {
            "text/plain": [
              "(205, 11)"
            ]
          },
          "metadata": {},
          "execution_count": 10
        }
      ]
    },
    {
      "cell_type": "code",
      "source": [
        "df.describe()"
      ],
      "metadata": {
        "id": "kMBJ6gpb7Bvz"
      },
      "id": "kMBJ6gpb7Bvz",
      "execution_count": null,
      "outputs": []
    },
    {
      "cell_type": "code",
      "source": [
        "df.select_dtypes(exclude= 'object').corr()"
      ],
      "metadata": {
        "id": "5XeenAOD7ECq"
      },
      "id": "5XeenAOD7ECq",
      "execution_count": null,
      "outputs": []
    },
    {
      "cell_type": "code",
      "source": [
        "df.iloc[10:14]"
      ],
      "metadata": {
        "id": "xWwYrm067agJ"
      },
      "id": "xWwYrm067agJ",
      "execution_count": null,
      "outputs": []
    },
    {
      "cell_type": "code",
      "source": [
        "df[df['Date'] == '11/23/2011']"
      ],
      "metadata": {
        "id": "KMNGTey-7g-_"
      },
      "id": "KMNGTey-7g-_",
      "execution_count": null,
      "outputs": []
    },
    {
      "cell_type": "code",
      "source": [
        "df[df['Date'] == '01/06/2012']"
      ],
      "metadata": {
        "id": "UTS3gowq7iVs"
      },
      "id": "UTS3gowq7iVs",
      "execution_count": null,
      "outputs": []
    },
    {
      "cell_type": "code",
      "source": [
        "df.plot(kind='scatter', x='Distance', y='TotalTime')"
      ],
      "metadata": {
        "id": "OjPm1JrX7pLW"
      },
      "id": "OjPm1JrX7pLW",
      "execution_count": null,
      "outputs": []
    },
    {
      "cell_type": "code",
      "source": [
        "df[['AvgMovingSpeed', 'AvgSpeed']].plot(kind='box')"
      ],
      "metadata": {
        "id": "DrskaGNA73cD"
      },
      "id": "DrskaGNA73cD",
      "execution_count": null,
      "outputs": []
    }
  ],
  "metadata": {
    "kernelspec": {
      "display_name": "Python 3 (ipykernel)",
      "language": "python",
      "name": "python3"
    },
    "language_info": {
      "codemirror_mode": {
        "name": "ipython",
        "version": 3
      },
      "file_extension": ".py",
      "mimetype": "text/x-python",
      "name": "python",
      "nbconvert_exporter": "python",
      "pygments_lexer": "ipython3",
      "version": "3.8.2"
    },
    "colab": {
      "provenance": []
    }
  },
  "nbformat": 4,
  "nbformat_minor": 5
}